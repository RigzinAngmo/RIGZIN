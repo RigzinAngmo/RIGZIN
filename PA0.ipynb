{
  "nbformat": 4,
  "nbformat_minor": 0,
  "metadata": {
    "colab": {
      "provenance": []
    },
    "kernelspec": {
      "name": "python3",
      "display_name": "Python 3"
    },
    "language_info": {
      "name": "python"
    }
  },
  "cells": [
    {
      "cell_type": "code",
      "source": [
        "#3x3 matrix\n",
        "import numpy as np"
      ],
      "metadata": {
        "id": "MseJNr9XV3PM"
      },
      "execution_count": 4,
      "outputs": []
    },
    {
      "cell_type": "code",
      "execution_count": 2,
      "metadata": {
        "id": "_In9XD3PPcMS",
        "colab": {
          "base_uri": "https://localhost:8080/"
        },
        "outputId": "310f18fb-4f63-4552-f06b-8311f7e54d4d"
      },
      "outputs": [
        {
          "output_type": "stream",
          "name": "stdout",
          "text": [
            "[[1, 2, 5], [4, 2, 6], [6, 7, 8]]\n"
          ]
        }
      ],
      "source": [
        "a=[[1, 2, 5],[4,2,6],[6,7,8]]\n",
        "print(a)"
      ]
    },
    {
      "cell_type": "code",
      "source": [
        "#need only 2x2 from a\n",
        "m=np.array(a)\n",
        "print(m)"
      ],
      "metadata": {
        "id": "zt0iwk5CVxJ4",
        "outputId": "4ee2888a-6b31-4092-f534-824c9136fa30",
        "colab": {
          "base_uri": "https://localhost:8080/"
        }
      },
      "execution_count": 18,
      "outputs": [
        {
          "output_type": "stream",
          "name": "stdout",
          "text": [
            "[[1 2 5]\n",
            " [4 2 6]\n",
            " [6 7 8]]\n"
          ]
        }
      ]
    },
    {
      "cell_type": "code",
      "source": [
        "b=m[0:2,0:2]\n",
        "print(b)"
      ],
      "metadata": {
        "id": "PGJgMCRxYGAo",
        "outputId": "d3dd397b-3de4-4c4c-b8f1-633e7d4a3eb9",
        "colab": {
          "base_uri": "https://localhost:8080/"
        }
      },
      "execution_count": 19,
      "outputs": [
        {
          "output_type": "stream",
          "name": "stdout",
          "text": [
            "[[1 2]\n",
            " [4 2]]\n"
          ]
        }
      ]
    }
  ]
}